{
 "cells": [
  {
   "attachments": {},
   "cell_type": "markdown",
   "metadata": {},
   "source": [
    "# Norm\n",
    "\n",
    "$$ ||x|| = \\sqrt {x_1^2 + x_2^2 + ... + x_n^2} = \\sqrt{x^Tx}$$"
   ]
  },
  {
   "attachments": {},
   "cell_type": "markdown",
   "metadata": {},
   "source": [
    "### Python usage"
   ]
  },
  {
   "cell_type": "code",
   "execution_count": 1,
   "metadata": {},
   "outputs": [
    {
     "data": {
      "text/plain": [
       "(3.0, 3.0, 3.0)"
      ]
     },
     "execution_count": 1,
     "metadata": {},
     "output_type": "execute_result"
    }
   ],
   "source": [
    "import numpy as np\n",
    "from numpy import linalg as npl\n",
    "\n",
    "x = [2,-1,2]\n",
    "npl.norm(x), np.sqrt(np.inner(x,x)), np.sqrt(sum(np.array(x)**2))"
   ]
  },
  {
   "attachments": {},
   "cell_type": "markdown",
   "metadata": {},
   "source": [
    "### Properties of norm"
   ]
  },
  {
   "attachments": {},
   "cell_type": "markdown",
   "metadata": {},
   "source": [
    " - **Homogeneity** : $||\\beta x|| = abs(\\beta) ||x||$\n",
    " - **Triangle inequality** : $||x+y|| \\le ||x|| + ||y||$\n",
    " - **Nonnegativity** : $||x|| \\ge 0$\n",
    " - **Definiteness** : $||x|| = 0$ only if $x = 0$"
   ]
  },
  {
   "attachments": {},
   "cell_type": "markdown",
   "metadata": {},
   "source": [
    "# Root Mean Square (RMS)\n",
    "\n",
    "$$\n",
    "rms(x) = \\sqrt{\\frac {x_1^2 + ... + x_n^2} {n}} = \\frac {||x||} {\\sqrt n}\n",
    "$$"
   ]
  }
 ],
 "metadata": {
  "kernelspec": {
   "display_name": "ML",
   "language": "python",
   "name": "python3"
  },
  "language_info": {
   "codemirror_mode": {
    "name": "ipython",
    "version": 3
   },
   "file_extension": ".py",
   "mimetype": "text/x-python",
   "name": "python",
   "nbconvert_exporter": "python",
   "pygments_lexer": "ipython3",
   "version": "3.9.13"
  },
  "orig_nbformat": 4
 },
 "nbformat": 4,
 "nbformat_minor": 2
}
