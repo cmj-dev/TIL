{
 "cells": [
  {
   "attachments": {},
   "cell_type": "markdown",
   "metadata": {},
   "source": [
    "## Taylor approximation\n",
    "### First-order Taylor approximation\n",
    "\n",
    "If we gonna made First-order Taylor approximation for f(x) at point z:\n",
    "\n",
    "$$ \\hat f(x) = f(z) + \\frac {f^\\prime(z)} {1!}(x-z) $$\n",
    "\n",
    "So for $ \\hat f(x) $ if x is located nearby z, $ \\hat f(x) $ will have a good method to predict $ f(x) $\n",
    "\n",
    "> Ex) Get the first-order taylor approximation of $f(x) = x_1 + exp(x_2 - x_1)$ at point (1, 2)\n",
    ">\n",
    ">$\\hat f(x) = f^\\prime (z)(x-z) + f(z)$\n",
    ">\n",
    ">And when $f(x) = x_1 + e^{x_2 - x_1}$\n",
    ">\n",
    ">$$f^\\prime(x) = \\begin{bmatrix} \n",
    ">1-e^{x_2-x_1}\\\\\n",
    ">e^{x_2-x_1}\n",
    ">\\end{bmatrix}$$\n",
    ">\n",
    ">So we can code that expression like below"
   ]
  },
  {
   "cell_type": "code",
   "execution_count": 1,
   "metadata": {},
   "outputs": [
    {
     "data": {
      "text/plain": [
       "(3.718281828459045, 3.718281828459045)"
      ]
     },
     "execution_count": 1,
     "metadata": {},
     "output_type": "execute_result"
    }
   ],
   "source": [
    "import numpy as np\n",
    "from math import exp\n",
    "\n",
    "f = lambda x: x[0] + exp(x[1] - x[0])\n",
    "grad_f = lambda x: [1-exp(x[1] - x[0]), exp(x[1] - x[0])]\n",
    "z = [1,2]\n",
    "# Taylor approximation\n",
    "f_hat = lambda x: f(z) + np.inner(grad_f(z), (x-z))\n",
    "f([1,2]), f_hat(np.array([1,2]))"
   ]
  }
 ],
 "metadata": {
  "kernelspec": {
   "display_name": "ML",
   "language": "python",
   "name": "python3"
  },
  "language_info": {
   "codemirror_mode": {
    "name": "ipython",
    "version": 3
   },
   "file_extension": ".py",
   "mimetype": "text/x-python",
   "name": "python",
   "nbconvert_exporter": "python",
   "pygments_lexer": "ipython3",
   "version": "3.9.13"
  },
  "orig_nbformat": 4
 },
 "nbformat": 4,
 "nbformat_minor": 2
}
