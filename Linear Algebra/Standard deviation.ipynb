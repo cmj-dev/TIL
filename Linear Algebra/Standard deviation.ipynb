{
 "cells": [
  {
   "attachments": {},
   "cell_type": "markdown",
   "metadata": {},
   "source": [
    "# Standard deviation"
   ]
  },
  {
   "attachments": {},
   "cell_type": "markdown",
   "metadata": {},
   "source": [
    "For n-vector x, $avg(x) = 1^Tx/n$\n",
    "\n",
    "De-meaned vector is $ \\tilde x = x - 1^Tx/n $\n",
    "\n",
    "### Standard deviation\n",
    "\n",
    "$$ std(x) = rms(\\tilde x) = \\frac{||x - (1^Tx/n)1||}{\\sqrt n}$$\n",
    "\n",
    "### Basic formula\n",
    "\n",
    "$$ rms(x)^2 = avg(x)^2 + std(x)^2 $$"
   ]
  },
  {
   "cell_type": "code",
   "execution_count": 1,
   "metadata": {},
   "outputs": [
    {
     "data": {
      "text/plain": [
       "(0.3006632462812656, 0.30066324628126556)"
      ]
     },
     "execution_count": 1,
     "metadata": {},
     "output_type": "execute_result"
    }
   ],
   "source": [
    "import numpy as np\n",
    "import numpy.linalg as npl\n",
    "\n",
    "x = np.random.rand(100)\n",
    "de_mean = lambda x: x - np.average(x)\n",
    "stdev = lambda x:npl.norm(x-np.average(x))/np.sqrt(len(x))\n",
    "stdev(x), np.std(x)"
   ]
  }
 ],
 "metadata": {
  "kernelspec": {
   "display_name": "ML",
   "language": "python",
   "name": "python3"
  },
  "language_info": {
   "codemirror_mode": {
    "name": "ipython",
    "version": 3
   },
   "file_extension": ".py",
   "mimetype": "text/x-python",
   "name": "python",
   "nbconvert_exporter": "python",
   "pygments_lexer": "ipython3",
   "version": "3.9.13"
  },
  "orig_nbformat": 4
 },
 "nbformat": 4,
 "nbformat_minor": 2
}
