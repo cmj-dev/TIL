{
 "cells": [
  {
   "attachments": {},
   "cell_type": "markdown",
   "metadata": {},
   "source": [
    "# QR Factorization"
   ]
  },
  {
   "attachments": {},
   "cell_type": "markdown",
   "metadata": {},
   "source": [
    "For further use of matrices, we factorize the matrix $A$ to *orthonormal column matrix* $Q$ and *upper trianguler matrix* $R$"
   ]
  },
  {
   "attachments": {},
   "cell_type": "markdown",
   "metadata": {},
   "source": [
    "## Gram-Schmidt for QR Factorization"
   ]
  },
  {
   "attachments": {},
   "cell_type": "markdown",
   "metadata": {},
   "source": [
    "To get the orthonormal column matrix $Q$ and upper trainbuler matrix $R$, \n",
    "\n",
    "We use Gram-Schmidt Algorithm.\n",
    "\n",
    "In gram-schmidt algorithm, we could get **orthonormal vector** $ q_1, q_2 ... , q_k $ from **linearly independent vector** $ a_1, a_2, a_3, ... , a_k $.\n",
    "\n",
    "And for each $ a_i $ we got expression like this.\n",
    "$$\n",
    "\\begin{align}\n",
    "a_i &= (q_1^Ta_i)q_1 + ... + (q_{i-1}^Ta_i)q_{i-1} + \\|\\tilde q_i\\|q_i\\\\\n",
    "\n",
    "&= R_{1i}q_1 + ... + R_{i-1i}q_{i-1} +R_{ii}q_i\n",
    "\\end{align}\n",
    "$$"
   ]
  },
  {
   "attachments": {},
   "cell_type": "markdown",
   "metadata": {},
   "source": [
    "### Gram-Schmidt in matrix notation\n",
    "\n",
    "And we can convert $ a_i = R_1iq_i  + ... + R_{i-1i}q_{i-1} +R_{ii}q_i $ as matrix notation\n",
    "\n",
    "$$\n",
    "\\begin{bmatrix} a_1 \\\\ a_2 \\\\ ... \\\\ a_k \\end{bmatrix}^T\n",
    "=\n",
    "\\begin{bmatrix} q_1 \\\\ q_2 \\\\ ... \\\\ q_k \\end{bmatrix}^T\n",
    "\\begin{bmatrix} R_{11} & R_{12} & ... & R_{1k} \\\\\n",
    " 0 & R_{22} & ... & R_{2k}\\\\ ... \\\\ 0 & 0 & ... & R_{kk} \\end{bmatrix}\n",
    "$$"
   ]
  },
  {
   "attachments": {},
   "cell_type": "markdown",
   "metadata": {},
   "source": [
    "## Python code for qr factorization"
   ]
  },
  {
   "cell_type": "code",
   "execution_count": 1,
   "metadata": {},
   "outputs": [],
   "source": [
    "import numpy as np\n",
    "import numpy.linalg as npl"
   ]
  },
  {
   "cell_type": "code",
   "execution_count": 6,
   "metadata": {},
   "outputs": [
    {
     "name": "stdout",
     "output_type": "stream",
     "text": [
      "qr of \n",
      "[[-3 -4]\n",
      " [ 4  6]\n",
      " [ 1  1]]\n",
      " Q = \n",
      "[[-0.58834841 -0.45760432]\n",
      " [ 0.78446454 -0.52297636]\n",
      " [ 0.19611614  0.7190925 ]] \n",
      " R =\n",
      "[[ 5.09901951  7.256297  ]\n",
      " [ 0.         -0.58834841]]\n"
     ]
    }
   ],
   "source": [
    "A = np.array([[-3,-4],[4,6],[1,1]])\n",
    "q,r = npl.qr(A)\n",
    "print(f'qr of \\n{A}\\n Q = \\n{q} \\n R =\\n{r}')"
   ]
  },
  {
   "cell_type": "code",
   "execution_count": 12,
   "metadata": {},
   "outputs": [
    {
     "data": {
      "text/plain": [
       "array([[-3., -4.],\n",
       "       [ 4.,  6.],\n",
       "       [ 1.,  1.]])"
      ]
     },
     "execution_count": 12,
     "metadata": {},
     "output_type": "execute_result"
    }
   ],
   "source": [
    "np.matmul(q,r)"
   ]
  }
 ],
 "metadata": {
  "kernelspec": {
   "display_name": "ML",
   "language": "python",
   "name": "python3"
  },
  "language_info": {
   "codemirror_mode": {
    "name": "ipython",
    "version": 3
   },
   "file_extension": ".py",
   "mimetype": "text/x-python",
   "name": "python",
   "nbconvert_exporter": "python",
   "pygments_lexer": "ipython3",
   "version": "3.9.13"
  },
  "orig_nbformat": 4
 },
 "nbformat": 4,
 "nbformat_minor": 2
}
