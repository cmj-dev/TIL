{
 "cells": [
  {
   "attachments": {},
   "cell_type": "markdown",
   "metadata": {},
   "source": [
    "# Clustering"
   ]
  },
  {
   "attachments": {},
   "cell_type": "markdown",
   "metadata": {},
   "source": [
    "### Some notaitions\n",
    "\n",
    "From N vectors $ x_1, ... ,x_N $ cluster into $ k $ groups:\n",
    "\n",
    "* $ G_j \\subset \\{x_1, ..., x_N\\} $ is group *j*\n",
    "\n",
    "* $c_i$ is a cluster label for each vector $x_i$\n",
    "\n",
    "* $G_j = \\{i|c_i = j\\}$\n",
    "\n",
    "$k$ group **representatives** (a vector in a cluster is in the *center*) of clusters : *n*-vectors $z_1, ... , z_k$"
   ]
  },
  {
   "attachments": {},
   "cell_type": "markdown",
   "metadata": {},
   "source": [
    "### Clustering objecctive\n",
    "Clustering objective is the <U>mean square distance</U> from vectors to associated representative.\n",
    "\n",
    "$$\n",
    "J^{clust} = \\frac{1}{n}({\\|x_1 - z_{c_1}\\|}^2 + ... + {\\|x_N - z_{c_N}\\|}^2)\n",
    "$$\n",
    "\n",
    "**Small $J^{clust}$ means a good clustering**\n",
    "> Our goal is to choose clustering $c_i$ and representatives $z_j$ to <U>minimize</U> $J^{clust}$"
   ]
  },
  {
   "attachments": {},
   "cell_type": "markdown",
   "metadata": {},
   "source": [
    "## How we could choose best cluster?\n",
    "\n",
    "### Optimal clustering\n",
    "For optimal clustering, we have to choice every vector's cluster and best Jclust which minimize well.\n",
    "\n",
    "-> BigO of that algorithm is too big to calculate in real.\n",
    "\n",
    "### Suboptimal clustering\n",
    "Because of optimal algorithm's complexity, we use suboptimal way to clust by iterating two steps and that is **k-means algorithm**"
   ]
  },
  {
   "attachments": {},
   "cell_type": "markdown",
   "metadata": {},
   "source": [
    "# k-means algorithm\n",
    "\n",
    "With some method, we initialize representatives.\n",
    "> Given $x_1, ... , x_N$ (vectors) and $z_1, ... , z_k$ (representatives)\n",
    ">\n",
    "> Repeat 2 steps\n",
    ">\n",
    "> ### Step 1) Partition the vectors into *k* groups\n",
    "> For each vector, assign vector to the group associated with the nearest representative\n",
    ">\n",
    "> ### Step 2) Update representatives\n",
    "> For each group set $z_j$ to be the mean of the vectors in group j\n",
    ">"
   ]
  },
  {
   "attachments": {},
   "cell_type": "markdown",
   "metadata": {},
   "source": [
    "### Initalization of representatives in k-means algorithm\n",
    "\n",
    "1. Pick the representatives **randomly from the original vectors**\n",
    "\n",
    "\n",
    "2. **Start from a random assignment of the original vectors to k-groups**, and use the means of the groups as the inital representatives\n"
   ]
  },
  {
   "attachments": {},
   "cell_type": "markdown",
   "metadata": {},
   "source": [
    "## How to choose k?\n",
    "\n",
    "#### **General approach** : elbow method\n",
    "\n",
    "\n",
    "![elbow method.png](./img/elbow%20method.png)\n"
   ]
  }
 ],
 "metadata": {
  "language_info": {
   "name": "python"
  },
  "orig_nbformat": 4
 },
 "nbformat": 4,
 "nbformat_minor": 2
}
