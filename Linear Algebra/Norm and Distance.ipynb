{
 "cells": [
  {
   "attachments": {},
   "cell_type": "markdown",
   "metadata": {},
   "source": [
    "# Norm\n",
    "\n",
    "$$ ||x|| = \\sqrt {x_1^2 + x_2^2 + ... + x_n^2} = \\sqrt{x^Tx}$$"
   ]
  },
  {
   "attachments": {},
   "cell_type": "markdown",
   "metadata": {},
   "source": [
    "### Python usage"
   ]
  },
  {
   "cell_type": "code",
   "execution_count": 1,
   "metadata": {},
   "outputs": [
    {
     "data": {
      "text/plain": [
       "(3.0, 3.0, 3.0)"
      ]
     },
     "execution_count": 1,
     "metadata": {},
     "output_type": "execute_result"
    }
   ],
   "source": [
    "import numpy as np\n",
    "from numpy import linalg as npl\n",
    "\n",
    "x = [2,-1,2]\n",
    "npl.norm(x), np.sqrt(np.inner(x,x)), np.sqrt(sum(np.array(x)**2))"
   ]
  },
  {
   "attachments": {},
   "cell_type": "markdown",
   "metadata": {},
   "source": [
    "### Properties of norm"
   ]
  },
  {
   "attachments": {},
   "cell_type": "markdown",
   "metadata": {},
   "source": [
    " - **Homogeneity** : $||\\beta x|| = abs(\\beta) ||x||$\n",
    " - **Triangle inequality** : $||x+y|| \\le ||x|| + ||y||$\n",
    " - **Nonnegativity** : $||x|| \\ge 0$\n",
    " - **Definiteness** : $||x|| = 0$ only if $x = 0$"
   ]
  },
  {
   "attachments": {},
   "cell_type": "markdown",
   "metadata": {},
   "source": [
    "# Root Mean Square (RMS)\n",
    "\n",
    "$$\n",
    "rms(x) = \\sqrt{\\frac {x_1^2 + ... + x_n^2} {n}} = \\frac {||x||} {\\sqrt n}\n",
    "$$"
   ]
  },
  {
   "attachments": {},
   "cell_type": "markdown",
   "metadata": {},
   "source": [
    "# Cauchy-Schwarz inequality"
   ]
  },
  {
   "attachments": {},
   "cell_type": "markdown",
   "metadata": {},
   "source": [
    "$$ |a^Tb| \\le \\|a\\|\\|b\\| $$\n",
    "\n",
    "## Derivation of Cauchy-Schwarz inequality\n",
    "\n",
    "assume $\\alpha = \\|a\\|$ and $\\beta = \\|b\\|$ are nonzero\n",
    "\n",
    "Then\n",
    "\n",
    "$$\n",
    "\\begin{align}\n",
    "0 &\\le \\|\\beta a - \\alpha b\\|^2\\\\\n",
    "&= ... \\\\\n",
    "&= 2\\|a\\|^2\\|b\\|^2 - 2 \\|a\\|\\|b\\|(a^Tb)\\\\\n",
    "\\\\\n",
    "&\\therefore |a^Tb| \\le \\|a\\|\\|b\\|\n",
    "\\end{align}\n",
    "\n",
    "$$\n",
    "\n"
   ]
  },
  {
   "attachments": {},
   "cell_type": "markdown",
   "metadata": {},
   "source": [
    "# Angle"
   ]
  },
  {
   "attachments": {},
   "cell_type": "markdown",
   "metadata": {},
   "source": [
    "$$\\theta = {cos}^{-1} (\\frac{a^Tb}{\\|a\\|\\|b\\|})$$\n",
    "\n",
    "$$ a^Tb = \\|a\\|\\|b\\|cos\\theta $$"
   ]
  },
  {
   "attachments": {},
   "cell_type": "markdown",
   "metadata": {},
   "source": [
    "### Method in python"
   ]
  },
  {
   "attachments": {},
   "cell_type": "markdown",
   "metadata": {},
   "source": [
    "use **numpy.arccos**"
   ]
  },
  {
   "cell_type": "code",
   "execution_count": 1,
   "metadata": {},
   "outputs": [
    {
     "data": {
      "text/plain": [
       "(0.9689825515916383, 55.51861062801842)"
      ]
     },
     "execution_count": 1,
     "metadata": {},
     "output_type": "execute_result"
    }
   ],
   "source": [
    "import numpy as np\n",
    "import numpy.linalg as npl\n",
    "\n",
    "angle = lambda x,y: np.arccos(np.inner(x,y)/(npl.norm(x)*npl.norm(y)))\n",
    "a,b = [1,2,-1],[2,0,-3]\n",
    "angle(a,b), angle(a,b)*(360/(2*np.pi))\n",
    "# radian, degree"
   ]
  },
  {
   "attachments": {},
   "cell_type": "markdown",
   "metadata": {},
   "source": [
    "## Correlation coefficient"
   ]
  },
  {
   "attachments": {},
   "cell_type": "markdown",
   "metadata": {},
   "source": [
    "$$ \\rho = \\frac{\\tilde a^T \\tilde b}{\\|\\tilde a\\| \\|\\tilde b\\|}$$"
   ]
  },
  {
   "cell_type": "code",
   "execution_count": null,
   "metadata": {},
   "outputs": [],
   "source": [
    "import numpy.linalg as npl\n",
    "\n",
    "def corr_coef(a, b):\n",
    "    a_tilde = a - sum(a)/len(a)\n",
    "    b_tilde = b - sum(b)/len(b)\n",
    "    denom = (npl.norm(a_tilde) * npl.norm(b_tilde))\n",
    "    return (a_tilde @ b_tilde) / denom"
   ]
  }
 ],
 "metadata": {
  "kernelspec": {
   "display_name": "ML",
   "language": "python",
   "name": "python3"
  },
  "language_info": {
   "codemirror_mode": {
    "name": "ipython",
    "version": 3
   },
   "file_extension": ".py",
   "mimetype": "text/x-python",
   "name": "python",
   "nbconvert_exporter": "python",
   "pygments_lexer": "ipython3",
   "version": "3.9.13"
  },
  "orig_nbformat": 4
 },
 "nbformat": 4,
 "nbformat_minor": 2
}
