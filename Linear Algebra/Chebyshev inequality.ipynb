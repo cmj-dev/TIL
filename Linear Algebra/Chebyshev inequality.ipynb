{
 "cells": [
  {
   "attachments": {},
   "cell_type": "markdown",
   "metadata": {},
   "source": [
    "# Chebyshev inequality"
   ]
  },
  {
   "attachments": {},
   "cell_type": "markdown",
   "metadata": {},
   "source": [
    "1. Number of $x_i$ with $|x_i| \\ge a$ is no more than $\\frac{||x||^2}{a^2}$\n",
    "2. Fraction of entries $(\\frac {k}{n})$ with $|x_i| \\ge a$ is no more than $(\\frac{rms(x)}{a})^2$"
   ]
  },
  {
   "cell_type": "code",
   "execution_count": null,
   "metadata": {},
   "outputs": [],
   "source": [
    "import numpy as np\n",
    "from numpy import linalg as npl\n",
    "\n",
    "cheb_bound = lambda x, a: (npl.norm(x)/a)**2"
   ]
  }
 ],
 "metadata": {
  "kernelspec": {
   "display_name": "ML",
   "language": "python",
   "name": "python3"
  },
  "language_info": {
   "name": "python",
   "version": "3.9.13"
  },
  "orig_nbformat": 4
 },
 "nbformat": 4,
 "nbformat_minor": 2
}
