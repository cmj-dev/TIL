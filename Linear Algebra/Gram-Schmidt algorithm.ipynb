{
 "cells": [
  {
   "attachments": {},
   "cell_type": "markdown",
   "metadata": {},
   "source": [
    "# Gram-schmidt Algorithm"
   ]
  },
  {
   "attachments": {},
   "cell_type": "markdown",
   "metadata": {},
   "source": [
    "## Orthonormal expansion\n",
    "\n",
    "If $ a_1, ... , a_n $ is an orthonormal basis, we have for any n-vector x:\n",
    "\n",
    "$$\n",
    "x = (a_1^Tx)a_1 + ... + (a_n^Tx)a_n\n",
    "$$"
   ]
  },
  {
   "attachments": {},
   "cell_type": "markdown",
   "metadata": {},
   "source": [
    "## Basic Idea\n",
    "\n",
    "We will use **Orthonormal expansion** for Gram-schmidt Algorithm.\n",
    "\n",
    "In the expression\n",
    "\n",
    "$$ x = (a_1^Tx)a_1 + ... + (a_n^Tx)a_n $$\n",
    "\n",
    "We will add a new vector $ a_{n+1} $\n",
    "\n",
    "$$ x = (a_1^Tx)a_1 + ... + (a_n^Tx)a_n + (a_{n+1}^Tx)a_{n+1} $$\n",
    "\n",
    "If $ a_{n+1} $ is orthonormal to $ a_1 $ ~ $ a_n $ , then that equation holds.\n",
    "\n",
    "If not, the value of vector $ a_{n+1} $ makes that equation ture is only 0."
   ]
  },
  {
   "attachments": {},
   "cell_type": "markdown",
   "metadata": {},
   "source": [
    "## Algorithm\n",
    "\n",
    "In the equation above, we will change notions a little.\n",
    "\n",
    "$$\n",
    "\\begin{align}\n",
    "a_i &= (q_1^Ta_i)q_1 + ... + (q_{i-1}^Ta_i)q_{i-1} + (q_i^Ta_i)q_i\\\\\n",
    "&= (q_1^Ta_i)q_1 + ... + (q_{i-1}^Ta_i)q_{i-1} + \\tilde q_i\\\\\n",
    "\n",
    "\\tilde q_i &= a_i - (q_1^Ta_i)q_1 - ... - (q_{i-1}^Ta_i)q_{i-1}\n",
    "\n",
    "\\end{align}\n",
    "$$\n",
    "We can consider $ \\tilde q_i $ as  the vector without the value of the each direction from $ q_1 $ to $ q_{i-1} $\n",
    "\n",
    "So, if $ \\tilde q_i $ is 0, $ \\tilde q_i $ is linearly dependent on $ q_1 $ to $ q_{i-1} $.\n",
    "\n",
    "## **Finally the algorithm works like this**\n",
    "\n",
    "> given n-vectors $ a_1, ... , a_k $\n",
    ">\n",
    "> for $ i = 1, ... , k $\n",
    ">\n",
    ">   1. Orthogonaliztaion:\n",
    ">\n",
    ">       $ \\tilde q_i = a_i - (q_1^Ta_i)q_1 - ... - (q_{i-1}^Ta_i)q_{i-1} $\n",
    ">\n",
    ">   2. Test for linear dependence: if $ \\tilde q_i = 0 $, quit\n",
    ">\n",
    ">   3. Normalization: $ q_i = \\tilde q_i/\\| \\tilde q_i \\| $\n"
   ]
  },
  {
   "attachments": {},
   "cell_type": "markdown",
   "metadata": {},
   "source": [
    "## Code"
   ]
  },
  {
   "cell_type": "code",
   "execution_count": 4,
   "metadata": {},
   "outputs": [
    {
     "data": {
      "text/plain": [
       "[array([1., 0., 0., 0., 0., 0., 0., 0., 0., 0.]),\n",
       " array([0., 1., 0., 0., 0., 0., 0., 0., 0., 0.]),\n",
       " array([0., 0., 1., 0., 0., 0., 0., 0., 0., 0.]),\n",
       " array([0., 0., 0., 1., 0., 0., 0., 0., 0., 0.]),\n",
       " array([0., 0., 0., 0., 1., 0., 0., 0., 0., 0.]),\n",
       " array([0., 0., 0., 0., 0., 1., 0., 0., 0., 0.]),\n",
       " array([0., 0., 0., 0., 0., 0., 1., 0., 0., 0.]),\n",
       " array([0., 0., 0., 0., 0., 0., 0., 1., 0., 0.]),\n",
       " array([0., 0., 0., 0., 0., 0., 0., 0., 1., 0.]),\n",
       " array([0., 0., 0., 0., 0., 0., 0., 0., 0., 1.])]"
      ]
     },
     "execution_count": 4,
     "metadata": {},
     "output_type": "execute_result"
    }
   ],
   "source": [
    "import numpy as np\n",
    "import numpy.linalg as npl\n",
    "\n",
    "def gsAlgo(A, tol=1e-10):\n",
    "    Q = []\n",
    "    for a in A:\n",
    "        q_tilde = a\n",
    "        for q in Q:\n",
    "            q_tilde -= np.dot(q,a)*q\n",
    "        if npl.norm(q_tilde) < tol:\n",
    "            print('Linearly dependent')\n",
    "            return Q\n",
    "        Q.append(q_tilde/npl.norm(q_tilde))\n",
    "    return Q\n",
    "\n",
    "n = 10\n",
    "gsAlgo([np.concatenate((np.ones(i),np.zeros(n-i)))for i in range(1, n+1)])"
   ]
  }
 ],
 "metadata": {
  "kernelspec": {
   "display_name": "ML",
   "language": "python",
   "name": "python3"
  },
  "language_info": {
   "codemirror_mode": {
    "name": "ipython",
    "version": 3
   },
   "file_extension": ".py",
   "mimetype": "text/x-python",
   "name": "python",
   "nbconvert_exporter": "python",
   "pygments_lexer": "ipython3",
   "version": "3.9.13"
  },
  "orig_nbformat": 4
 },
 "nbformat": 4,
 "nbformat_minor": 2
}
