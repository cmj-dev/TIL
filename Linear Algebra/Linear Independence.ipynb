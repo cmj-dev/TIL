{
 "cells": [
  {
   "attachments": {},
   "cell_type": "markdown",
   "metadata": {},
   "source": [
    "# Linear Independence\n",
    "\n",
    "Set of n-vectors { $ a_1, ..., a_k $ } is linearly independent if \n",
    "\n",
    "$$ \n",
    "\\beta_1 a_1 + ... + \\beta_k a_k = 0\n",
    "$$\n",
    "\n",
    "holds only when all the betas are zero\n"
   ]
  },
  {
   "attachments": {},
   "cell_type": "markdown",
   "metadata": {},
   "source": [
    "## Linear combinations of linearly independent vectors\n",
    "\n",
    "When $ x $ is a linear combination of linearly independent vectors $ a_1, ... , a_k $,\n",
    "\n",
    "$$\n",
    "x = \\beta_1 a_1 + ... + \\beta_k a_k\n",
    "$$\n",
    "\n",
    "all the betas are **unique**"
   ]
  },
  {
   "cell_type": "markdown",
   "metadata": {},
   "source": []
  }
 ],
 "metadata": {
  "language_info": {
   "name": "python"
  },
  "orig_nbformat": 4
 },
 "nbformat": 4,
 "nbformat_minor": 2
}
