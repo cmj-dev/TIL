{
 "cells": [
  {
   "attachments": {},
   "cell_type": "markdown",
   "metadata": {},
   "source": [
    "# Linear Independence\n",
    "\n",
    "Set of n-vectors { $ a_1, ..., a_k $ } is linearly independent if \n",
    "\n",
    "$$ \n",
    "\\beta_1 a_1 + ... + \\beta_k a_k = 0\n",
    "$$\n",
    "\n",
    "holds only when all the betas are zero\n"
   ]
  },
  {
   "attachments": {},
   "cell_type": "markdown",
   "metadata": {},
   "source": [
    "## Linear combinations of linearly independent vectors\n",
    "\n",
    "When $ x $ is a linear combination of linearly independent vectors $ a_1, ... , a_k $,\n",
    "\n",
    "$$\n",
    "x = \\beta_1 a_1 + ... + \\beta_k a_k\n",
    "$$\n",
    "\n",
    "all the betas are **unique** for $ x $"
   ]
  },
  {
   "attachments": {},
   "cell_type": "markdown",
   "metadata": {},
   "source": [
    "# Basis\n"
   ]
  },
  {
   "attachments": {},
   "cell_type": "markdown",
   "metadata": {},
   "source": [
    "A set of **n** linearly independent **n**-vectors is called a basis\n",
    "\n",
    "So, any n-vector could be expressed as a linear combination of basis."
   ]
  },
  {
   "attachments": {},
   "cell_type": "markdown",
   "metadata": {},
   "source": [
    "# Orthonormal vectors\n",
    "\n",
    "Orthonormal vectors satisfied two conditions.\n",
    "\n",
    "1. Set of n-vectors $ a_1, ... , a_k $ are orthogonal\n",
    "2. The norm of vectors are 1"
   ]
  },
  {
   "attachments": {},
   "cell_type": "markdown",
   "metadata": {},
   "source": [
    "# **Orthonormal expansion**\n",
    "\n",
    "If $ a_1, ..., a_n is an orthonormal basis, we have for any n-vector x\n",
    "\n",
    "$$\n",
    "x = (a_1^Tx)a_1 + ... + (a_n^Tx)a_n\n",
    "$$"
   ]
  }
 ],
 "metadata": {
  "language_info": {
   "name": "python"
  },
  "orig_nbformat": 4
 },
 "nbformat": 4,
 "nbformat_minor": 2
}
